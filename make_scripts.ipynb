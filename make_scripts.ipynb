{
 "cells": [
  {
   "cell_type": "code",
   "execution_count": 31,
   "metadata": {},
   "outputs": [],
   "source": [
    "import os\n",
    "import re\n",
    "import random\n",
    "\n",
    "MACHINE = \"gpub-container_g1\"\n",
    "CHECKPOINT = \"checkpoint-19.pth\"\n",
    "\n",
    "EVAL_TEXT = \"\"\"#!/bin/bash\n",
    "#$-S /bin/bash\n",
    "#$-cwd\n",
    "#$-ac d=none\n",
    "#$-j y\n",
    "#$-o $HOME/log/{filename}\n",
    "#$-jc {machine}.24h\n",
    "\n",
    "# For internet connection\n",
    "export MY_PROXY_URL=\"http://10.1.10.1:8080/\"\n",
    "export HTTP_PROXY=$MY_PROXY_URL\n",
    "export HTTPS_PROXY=$MY_PROXY_URL\n",
    "export FTP_PROXY=$MY_PROXY_URL\n",
    "export http_proxy=$MY_PROXY_URL\n",
    "export https_proxy=$MY_PROXY_URL\n",
    "export ftp_proxy=$MY_PROXY_URL\n",
    "export JAVA_HOME=$HOME/.jre/jdk-11.0.21+9-jre\n",
    "export PATH=$PATH:$JAVA_HOME/bin\n",
    "\n",
    "source ~/anaconda3/etc/profile.d/conda.sh\n",
    "conda activate lavin-torch2.1\n",
    "\n",
    "torchrun --nproc_per_node 1 --master_port {port} eval_dhpr.py \\\\\n",
    "    --adapter_path ./outputs/{expname}/{checkpoint} \\\\\n",
    "    --batch_size 2\n",
    "\"\"\"\n",
    "\n",
    "\n",
    "def generate_random_port(start=1024, end=49151):\n",
    "    return random.randint(start, end)\n",
    "\n",
    "\n",
    "def get_name(filename=\"checkpoint-12.pth\"):\n",
    "    # return ckpt12\n",
    "    # Use regular expression to extract numeric part\n",
    "    match = re.search(r'\\d+', filename)\n",
    "    if match:\n",
    "        numeric_part = match.group()\n",
    "        new_filename = \"ckpt\" + numeric_part\n",
    "        return new_filename\n",
    "    else:\n",
    "        print(\"No numeric part found in the filename.\")\n",
    "        return filename"
   ]
  },
  {
   "cell_type": "code",
   "execution_count": 32,
   "metadata": {},
   "outputs": [
    {
     "name": "stdout",
     "output_type": "stream",
     "text": [
      "qsub -N eval1 scripts/dhpr/eval/ckpt19_exp1_var_g16_bs16.sh\n",
      "qsub -N eval2 scripts/dhpr/eval/ckpt19_exp1_var_g16_bs32.sh\n"
     ]
    }
   ],
   "source": [
    "text = \"\"\"\n",
    "scripts/dhpr/g16/llama-version1/exp1_var_g16_bs16.sh\n",
    "scripts/dhpr/g16/llama-version1/exp1_var_g16_bs32.sh\n",
    "\"\"\"\n",
    "\n",
    "scripts = [l for l in text.split('\\n') if l.strip() != '']\n",
    "\n",
    "eval_dir = \"scripts/dhpr/eval\"\n",
    "\n",
    "job_id = 1\n",
    "\n",
    "for script in scripts:\n",
    "    script = script.strip()\n",
    "    expname = os.path.basename(script)\n",
    "    new_filename = get_name(CHECKPOINT) + \"_\" + os.path.basename(script)\n",
    "    new_filepath = os.path.join(eval_dir, new_filename)\n",
    "\n",
    "    with open(new_filepath, 'w') as f:\n",
    "        f.write(\n",
    "            EVAL_TEXT.format(machine=MACHINE,\n",
    "                             checkpoint=CHECKPOINT,\n",
    "                             filename=new_filename.split('.')[0],\n",
    "                             expname=expname.split('.')[0],\n",
    "                             port=generate_random_port()))\n",
    "\n",
    "    # print(\"qsub -N job{} {}\".format(job_id, script))\n",
    "    # print(\"qsub {filepath}\".format(filepath=filepath))\n",
    "    # print(\"qsub -hold_jid job{i} {filepath}\".format(i=job_id, filepath=new_filepath))\n",
    "    print(\"qsub -N eval{i} {filepath}\".format(i=job_id, filepath=new_filepath))\n",
    "    # print(\"\")\n",
    "    job_id += 1"
   ]
  },
  {
   "cell_type": "code",
   "execution_count": null,
   "metadata": {},
   "outputs": [],
   "source": []
  }
 ],
 "metadata": {
  "kernelspec": {
   "display_name": "lavin",
   "language": "python",
   "name": "python3"
  },
  "language_info": {
   "codemirror_mode": {
    "name": "ipython",
    "version": 3
   },
   "file_extension": ".py",
   "mimetype": "text/x-python",
   "name": "python",
   "nbconvert_exporter": "python",
   "pygments_lexer": "ipython3",
   "version": "3.9.18"
  }
 },
 "nbformat": 4,
 "nbformat_minor": 2
}
